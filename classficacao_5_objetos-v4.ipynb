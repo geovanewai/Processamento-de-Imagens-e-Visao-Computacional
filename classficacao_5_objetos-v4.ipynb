{
 "cells": [
  {
   "cell_type": "code",
   "execution_count": 3,
   "id": "97e9562e",
   "metadata": {},
   "outputs": [
    {
     "ename": "OSError",
     "evalue": "No file or directory found at keras.model.h5",
     "output_type": "error",
     "traceback": [
      "\u001b[1;31m---------------------------------------------------------------------------\u001b[0m",
      "\u001b[1;31mOSError\u001b[0m                                   Traceback (most recent call last)",
      "Cell \u001b[1;32mIn[3], line 9\u001b[0m\n\u001b[0;32m      6\u001b[0m np\u001b[38;5;241m.\u001b[39mset_printoptions(suppress\u001b[38;5;241m=\u001b[39m\u001b[38;5;28;01mTrue\u001b[39;00m)\n\u001b[0;32m      8\u001b[0m \u001b[38;5;66;03m# Carregar o modelo\u001b[39;00m\n\u001b[1;32m----> 9\u001b[0m model \u001b[38;5;241m=\u001b[39m \u001b[43mload_model\u001b[49m\u001b[43m(\u001b[49m\u001b[38;5;124;43m\"\u001b[39;49m\u001b[38;5;124;43mkeras.model.h5\u001b[39;49m\u001b[38;5;124;43m\"\u001b[39;49m\u001b[43m,\u001b[49m\u001b[43m \u001b[49m\u001b[38;5;28;43mcompile\u001b[39;49m\u001b[38;5;241;43m=\u001b[39;49m\u001b[38;5;28;43;01mFalse\u001b[39;49;00m\u001b[43m)\u001b[49m\n\u001b[0;32m     11\u001b[0m \u001b[38;5;66;03m# Carregar os rótulos (labels)\u001b[39;00m\n\u001b[0;32m     12\u001b[0m class_names \u001b[38;5;241m=\u001b[39m \u001b[38;5;28mopen\u001b[39m(\u001b[38;5;124m\"\u001b[39m\u001b[38;5;124mlabels.txt\u001b[39m\u001b[38;5;124m\"\u001b[39m, \u001b[38;5;124m\"\u001b[39m\u001b[38;5;124mr\u001b[39m\u001b[38;5;124m\"\u001b[39m)\u001b[38;5;241m.\u001b[39mreadlines()\n",
      "File \u001b[1;32mc:\\Users\\Aluno.BRJ805N1S9\\.conda\\envs\\clone_env_teste1\\lib\\site-packages\\keras\\src\\saving\\saving_api.py:262\u001b[0m, in \u001b[0;36mload_model\u001b[1;34m(filepath, custom_objects, compile, safe_mode, **kwargs)\u001b[0m\n\u001b[0;32m    254\u001b[0m     \u001b[38;5;28;01mreturn\u001b[39;00m saving_lib\u001b[38;5;241m.\u001b[39mload_model(\n\u001b[0;32m    255\u001b[0m         filepath,\n\u001b[0;32m    256\u001b[0m         custom_objects\u001b[38;5;241m=\u001b[39mcustom_objects,\n\u001b[0;32m    257\u001b[0m         \u001b[38;5;28mcompile\u001b[39m\u001b[38;5;241m=\u001b[39m\u001b[38;5;28mcompile\u001b[39m,\n\u001b[0;32m    258\u001b[0m         safe_mode\u001b[38;5;241m=\u001b[39msafe_mode,\n\u001b[0;32m    259\u001b[0m     )\n\u001b[0;32m    261\u001b[0m \u001b[38;5;66;03m# Legacy case.\u001b[39;00m\n\u001b[1;32m--> 262\u001b[0m \u001b[38;5;28;01mreturn\u001b[39;00m legacy_sm_saving_lib\u001b[38;5;241m.\u001b[39mload_model(\n\u001b[0;32m    263\u001b[0m     filepath, custom_objects\u001b[38;5;241m=\u001b[39mcustom_objects, \u001b[38;5;28mcompile\u001b[39m\u001b[38;5;241m=\u001b[39m\u001b[38;5;28mcompile\u001b[39m, \u001b[38;5;241m*\u001b[39m\u001b[38;5;241m*\u001b[39mkwargs\n\u001b[0;32m    264\u001b[0m )\n",
      "File \u001b[1;32mc:\\Users\\Aluno.BRJ805N1S9\\.conda\\envs\\clone_env_teste1\\lib\\site-packages\\keras\\src\\utils\\traceback_utils.py:70\u001b[0m, in \u001b[0;36mfilter_traceback.<locals>.error_handler\u001b[1;34m(*args, **kwargs)\u001b[0m\n\u001b[0;32m     67\u001b[0m     filtered_tb \u001b[38;5;241m=\u001b[39m _process_traceback_frames(e\u001b[38;5;241m.\u001b[39m__traceback__)\n\u001b[0;32m     68\u001b[0m     \u001b[38;5;66;03m# To get the full stack trace, call:\u001b[39;00m\n\u001b[0;32m     69\u001b[0m     \u001b[38;5;66;03m# `tf.debugging.disable_traceback_filtering()`\u001b[39;00m\n\u001b[1;32m---> 70\u001b[0m     \u001b[38;5;28;01mraise\u001b[39;00m e\u001b[38;5;241m.\u001b[39mwith_traceback(filtered_tb) \u001b[38;5;28;01mfrom\u001b[39;00m \u001b[38;5;28;01mNone\u001b[39;00m\n\u001b[0;32m     71\u001b[0m \u001b[38;5;28;01mfinally\u001b[39;00m:\n\u001b[0;32m     72\u001b[0m     \u001b[38;5;28;01mdel\u001b[39;00m filtered_tb\n",
      "File \u001b[1;32mc:\\Users\\Aluno.BRJ805N1S9\\.conda\\envs\\clone_env_teste1\\lib\\site-packages\\keras\\src\\saving\\legacy\\save.py:234\u001b[0m, in \u001b[0;36mload_model\u001b[1;34m(filepath, custom_objects, compile, options)\u001b[0m\n\u001b[0;32m    232\u001b[0m \u001b[38;5;28;01mif\u001b[39;00m \u001b[38;5;28misinstance\u001b[39m(filepath_str, \u001b[38;5;28mstr\u001b[39m):\n\u001b[0;32m    233\u001b[0m     \u001b[38;5;28;01mif\u001b[39;00m \u001b[38;5;129;01mnot\u001b[39;00m tf\u001b[38;5;241m.\u001b[39mio\u001b[38;5;241m.\u001b[39mgfile\u001b[38;5;241m.\u001b[39mexists(filepath_str):\n\u001b[1;32m--> 234\u001b[0m         \u001b[38;5;28;01mraise\u001b[39;00m \u001b[38;5;167;01mIOError\u001b[39;00m(\n\u001b[0;32m    235\u001b[0m             \u001b[38;5;124mf\u001b[39m\u001b[38;5;124m\"\u001b[39m\u001b[38;5;124mNo file or directory found at \u001b[39m\u001b[38;5;132;01m{\u001b[39;00mfilepath_str\u001b[38;5;132;01m}\u001b[39;00m\u001b[38;5;124m\"\u001b[39m\n\u001b[0;32m    236\u001b[0m         )\n\u001b[0;32m    238\u001b[0m     \u001b[38;5;28;01mif\u001b[39;00m tf\u001b[38;5;241m.\u001b[39mio\u001b[38;5;241m.\u001b[39mgfile\u001b[38;5;241m.\u001b[39misdir(filepath_str):\n\u001b[0;32m    239\u001b[0m         \u001b[38;5;28;01mreturn\u001b[39;00m saved_model_load\u001b[38;5;241m.\u001b[39mload(\n\u001b[0;32m    240\u001b[0m             filepath_str, \u001b[38;5;28mcompile\u001b[39m, options\n\u001b[0;32m    241\u001b[0m         )\n",
      "\u001b[1;31mOSError\u001b[0m: No file or directory found at keras.model.h5"
     ]
    }
   ],
   "source": [
    "from keras.models import load_model  # TensorFlow é necessário para o Keras funcionar\n",
    "import cv2  # Instalar opencv-python\n",
    "import numpy as np\n",
    "\n",
    "# Desabilitar notação científica para clareza\n",
    "np.set_printoptions(suppress=True)\n",
    "\n",
    "# Carregar o modelo\n",
    "model = load_model(\"keras.model.h5\", compile=False)\n",
    "\n",
    "# Carregar os rótulos (labels)\n",
    "class_names = open(\"labels.txt\", \"r\").readlines()\n",
    "\n",
    "# A CÂMERA pode ser 0 ou 1, dependendo da câmera padrão do seu computador\n",
    "camera = cv2.VideoCapture(0)\n",
    "\n",
    "# Definir o nome da janela e o tamanho desejado para a janela\n",
    "window_name = \"Imagem da Webcam\"\n",
    "cv2.namedWindow(window_name, cv2.WINDOW_NORMAL)  # Permite redimensionar a janela\n",
    "cv2.resizeWindow(window_name, 640, 480)  # Ajuste o tamanho da janela aqui (por exemplo, 640x480)\n",
    "\n",
    "while True:\n",
    "    # Capturar a imagem da webcam\n",
    "    ret, image = camera.read()\n",
    "\n",
    "    # Verificar se a captura foi bem-sucedida\n",
    "    if not ret:\n",
    "        print(\"Falha ao capturar imagem da câmera.\")\n",
    "        break\n",
    "\n",
    "    # Redimensionar a imagem para (224x224) para o modelo\n",
    "    resized_image = cv2.resize(image, (224, 224), interpolation=cv2.INTER_AREA)\n",
    "\n",
    "    # Transformar a imagem em um array numpy e redimensioná-la para o formato de entrada do modelo\n",
    "    input_image = np.asarray(resized_image, dtype=np.float32).reshape(1, 224, 224, 3)\n",
    "\n",
    "    # Normalizar o array da imagem\n",
    "    input_image = (input_image / 127.5) - 1\n",
    "\n",
    "    # Fazer a previsão com o modelo\n",
    "    prediction = model.predict(input_image)\n",
    "    index = np.argmax(prediction)\n",
    "    class_name = class_names[index].strip()  # Remover qualquer newline extra do rótulo\n",
    "    confidence_score = prediction[0][index]\n",
    "\n",
    "    # Exibir a classe e a pontuação de confiança na imagem\n",
    "    label = f\"{class_name}: {np.round(confidence_score * 100, 2)}%\"\n",
    "\n",
    "    # Desenhar um retângulo em toda a imagem (simulação de detecção de objeto)\n",
    "    height, width, _ = image.shape\n",
    "    cv2.rectangle(image, (10, 10), (width - 10, height - 10), (0, 255, 0), 2)\n",
    "\n",
    "    # Adicionar o texto com o rótulo na imagem\n",
    "    cv2.putText(image, label, (20, 30), cv2.FONT_HERSHEY_SIMPLEX, 0.8, (255, 255, 255), 2)\n",
    "\n",
    "    # Mostrar a imagem com o rótulo na janela\n",
    "    cv2.imshow(window_name, image)\n",
    "\n",
    "    # Ouvir o teclado para teclas pressionadas\n",
    "    keyboard_input = cv2.waitKey(1)\n",
    "\n",
    "    # 27 é o código ASCII para a tecla ESC no teclado\n",
    "    if keyboard_input == 27:\n",
    "        break\n",
    "\n",
    "# Liberar a câmera e fechar as janelas\n",
    "camera.release()\n",
    "cv2.destroyAllWindows()\n"
   ]
  },
  {
   "cell_type": "code",
   "execution_count": null,
   "id": "d6248c89",
   "metadata": {},
   "outputs": [],
   "source": []
  },
  {
   "cell_type": "code",
   "execution_count": null,
   "id": "38f8914f",
   "metadata": {},
   "outputs": [],
   "source": []
  }
 ],
 "metadata": {
  "kernelspec": {
   "display_name": "clone_env_teste1",
   "language": "python",
   "name": "python3"
  },
  "language_info": {
   "codemirror_mode": {
    "name": "ipython",
    "version": 3
   },
   "file_extension": ".py",
   "mimetype": "text/x-python",
   "name": "python",
   "nbconvert_exporter": "python",
   "pygments_lexer": "ipython3",
   "version": "3.10.13"
  }
 },
 "nbformat": 4,
 "nbformat_minor": 5
}
